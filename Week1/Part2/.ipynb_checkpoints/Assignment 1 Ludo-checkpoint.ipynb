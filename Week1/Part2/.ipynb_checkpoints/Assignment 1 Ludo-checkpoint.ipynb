{
 "cells": [
  {
   "cell_type": "code",
   "execution_count": 1,
   "metadata": {},
   "outputs": [],
   "source": [
    "from random import randrange"
   ]
  },
  {
   "cell_type": "code",
   "execution_count": 2,
   "metadata": {},
   "outputs": [],
   "source": [
    "def roll_dice():\n",
    "    '''\n",
    "    Random generator based upon probability distribution\n",
    "    '''\n",
    "    weighted_random = ['1'] * 25 +['2'] * 10 +['3'] * 10 +['4'] * 10 + ['5'] * 10 + ['6'] * 35\n",
    "    return random.choice(weighted_random)\n",
    "    \n",
    "class Player():\n",
    "    '''\n",
    "    Holds Player Identity\n",
    "    '''\n",
    "    def __init__(self, Player_num):\n",
    "        self.Player_num = Player_num\n",
    "    \n",
    "    def get_Player_num(self):\n",
    "        return self.Player_num\n",
    "        \n",
    "    def set_Player_num(self, Player_num):\n",
    "        self.Player_num = Player_num\n",
    "        \n",
    "class Piece(Player):\n",
    "    '''\n",
    "    Holds Piece Number and the Piece Position\n",
    "    '''\n",
    "    def __init__(self, Piece_num, Piece_pos):\n",
    "        self.Piece_num = Piece_num\n",
    "        self.Piece_pos = Piece_pos\n",
    "        \n",
    "    def get_Piece_num(self):\n",
    "        return self.Piece_num\n",
    "    \n",
    "    def set_Piece_num(self, Piece_num):    \n",
    "        self.Piece_num = Piece_num\n",
    "        \n",
    "    def get_Piece_pos(self):\n",
    "        return self.Piece_pos\n",
    "    \n",
    "    def set_Piece_pos(self, Piece_pos):\n",
    "        self.Piece_pos = Piece_pos\n",
    "        \n",
    "class Board():\n",
    "    '''\n",
    "    Holds Board Arrangement in a dictionary signifying piece postion and safe spaces\n",
    "    '''\n",
    "    def __init__(self, Piece_Arrangement):\n",
    "        self.Piece_Arrangement = Piece_Arrangement\n",
    "    \n",
    "    def get_Piece_Arrangement(self):\n",
    "        return self.Piece_Arrangement\n",
    "    \n",
    "    def set_Piece_Arrangement(self, Piece_Arrangement):\n",
    "        self.Piece_Arrangement = Piece_Arrangement\n",
    "\n",
    "class Ludo(Board):\n",
    "    '''\n",
    "    Helper functions holding the games logic\n",
    "    '''\n",
    "    def __init__(self):\n",
    "        pass\n",
    "    \n",
    "    def run_game(self):\n",
    "        print(\"Welcome to this small ludo game, type 1 to start the game and type 0 to exit the program\")\n",
    "        while True:\n",
    "            user_input = input(\"Input:    \")\n",
    "            if user_input == \"0\":\n",
    "                print(\"Exiting Program\")\n",
    "                break\n",
    "            elif user_input == \"1\":\n",
    "                self.Display()\n",
    "            else:\n",
    "                print(\"Invalid entry type 0 to exit the program\")"
   ]
  },
  {
   "cell_type": "code",
   "execution_count": 46,
   "metadata": {},
   "outputs": [
    {
     "name": "stdout",
     "output_type": "stream",
     "text": [
      "Welcome to this small ludo game, type 1 to start the game and type 0 to exit the program\n",
      "Input:    1\n",
      "6\n",
      "Input:    2\n",
      "Invalid entry type 0 to exit the program\n",
      "Input:    3\n",
      "Invalid entry type 0 to exit the program\n",
      "Input:    1\n",
      "1\n",
      "Input:    1\n",
      "6\n",
      "Input:    1\n",
      "6\n",
      "Input:    1\n",
      "6\n",
      "Input:    1\n",
      "1\n",
      "Input:    1\n",
      "5\n",
      "Input:    1\n",
      "6\n",
      "Input:    1\n",
      "6\n",
      "Input:    1\n",
      "5\n",
      "Input:    1\n",
      "3\n",
      "Input:    1\n",
      "6\n",
      "Input:    1\n",
      "2\n",
      "Input:    0\n",
      "Exiting Program\n"
     ]
    }
   ],
   "source": [
    "L = Ludo()\n",
    "L.run_game()"
   ]
  },
  {
   "cell_type": "code",
   "execution_count": 34,
   "metadata": {},
   "outputs": [
    {
     "data": {
      "text/plain": [
       "'4'"
      ]
     },
     "execution_count": 34,
     "metadata": {},
     "output_type": "execute_result"
    }
   ],
   "source": [
    "import random\n"
   ]
  },
  {
   "cell_type": "code",
   "execution_count": 14,
   "metadata": {},
   "outputs": [
    {
     "data": {
      "text/plain": [
       "100"
      ]
     },
     "execution_count": 14,
     "metadata": {},
     "output_type": "execute_result"
    }
   ],
   "source": [
    "len(weighted_random)"
   ]
  },
  {
   "cell_type": "code",
   "execution_count": null,
   "metadata": {},
   "outputs": [],
   "source": [
    "# Flow\n",
    "\n",
    "'''\n",
    "-> Both players roll the dice and whoever gets first ‘6’ will have first turn.\n",
    "\n",
    "-> Throw of a ‘6’ will give another turn.\n",
    "\n",
    "-> Design your own track for 2 player game with minimum of two pieces of each \n",
    "   player and make some boxes where your piece can’t get killed.\n",
    "\n",
    "-> If a piece lands on a piece of other player, the piece jumped upon is returned \n",
    "   to its starting circle.\n",
    "'''\n",
    "\n",
    "player1 rolls the dice\n",
    "\n",
    "while True:\n",
    "player_roll = roll()\n",
    "\n",
    "if player_roll is 6:\n",
    "    move_piece(player_roll)\n",
    "    player_roll = roll()\n",
    "\n",
    "else:\n",
    "    move_piece()"
   ]
  },
  {
   "cell_type": "code",
   "execution_count": null,
   "metadata": {},
   "outputs": [],
   "source": [
    "roll() # makes random number from 1-6\n",
    "player1.move_piece(number_of_moves) # move a piece  "
   ]
  },
  {
   "cell_type": "code",
   "execution_count": 1,
   "metadata": {},
   "outputs": [
    {
     "data": {
      "text/plain": [
       "True"
      ]
     },
     "execution_count": 1,
     "metadata": {},
     "output_type": "execute_result"
    }
   ],
   "source": [
    "6 is 6"
   ]
  }
 ],
 "metadata": {
  "kernelspec": {
   "display_name": "Python 3",
   "language": "python",
   "name": "python3"
  },
  "language_info": {
   "codemirror_mode": {
    "name": "ipython",
    "version": 3
   },
   "file_extension": ".py",
   "mimetype": "text/x-python",
   "name": "python",
   "nbconvert_exporter": "python",
   "pygments_lexer": "ipython3",
   "version": "3.6.5"
  }
 },
 "nbformat": 4,
 "nbformat_minor": 2
}
