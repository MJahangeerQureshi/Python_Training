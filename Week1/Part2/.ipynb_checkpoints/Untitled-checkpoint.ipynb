{
 "cells": [
  {
   "cell_type": "code",
   "execution_count": 1,
   "metadata": {},
   "outputs": [],
   "source": [
    "from include.player import Piece, Player"
   ]
  },
  {
   "cell_type": "code",
   "execution_count": 28,
   "metadata": {},
   "outputs": [],
   "source": []
  },
  {
   "cell_type": "code",
   "execution_count": 3,
   "metadata": {},
   "outputs": [],
   "source": [
    "def show_board(players):\n",
    "    '''\n",
    "    Displays the Board.\n",
    "    '''\n",
    "    for player_number in range(len(players)):\n",
    "        for piece_number in range(len(players[player_number])):\n",
    "            position = players[player_number][piece_number].get_piece_position()\n",
    "            if position == -1:\n",
    "                print(\"              Player\",player_number+1,\"Piece\",piece_number+1,\"is at position : Keep\\n\")\n",
    "            else:\n",
    "                print(\"              Player\",player_number+1,\"Piece\",piece_number+1,\"is at position : \",position,\"\\n\")"
   ]
  },
  {
   "cell_type": "code",
   "execution_count": 4,
   "metadata": {},
   "outputs": [
    {
     "name": "stdout",
     "output_type": "stream",
     "text": [
      "              Player 1 Piece 1 is at position : Keep\n",
      "\n",
      "              Player 1 Piece 2 is at position : Keep\n",
      "\n",
      "              Player 2 Piece 1 is at position : Keep\n",
      "\n",
      "              Player 2 Piece 2 is at position : Keep\n",
      "\n"
     ]
    }
   ],
   "source": [
    "show_board(players)"
   ]
  },
  {
   "cell_type": "code",
   "execution_count": 5,
   "metadata": {},
   "outputs": [],
   "source": [
    "def return_player_positions(players):\n",
    "    '''\n",
    "    Displays the Ludo Board.\n",
    "    '''\n",
    "    position = []\n",
    "    for player_number in range(len(players)):\n",
    "        for piece_number in range(len(players[player_number])):\n",
    "            position.append(players[player_number][piece_number].get_piece_position())\n",
    "    return position\n",
    "positions = return_player_positions(players)"
   ]
  },
  {
   "cell_type": "code",
   "execution_count": 6,
   "metadata": {},
   "outputs": [
    {
     "data": {
      "text/plain": [
       "[-1, -1, -1, -1]"
      ]
     },
     "execution_count": 6,
     "metadata": {},
     "output_type": "execute_result"
    }
   ],
   "source": [
    "positions"
   ]
  },
  {
   "cell_type": "code",
   "execution_count": 11,
   "metadata": {},
   "outputs": [],
   "source": []
  },
  {
   "cell_type": "code",
   "execution_count": 8,
   "metadata": {},
   "outputs": [],
   "source": [
    "for player_number in range(len(players)):\n",
    "    for piece_number in range(len(players[player_number])):\n",
    "        position = players[player_number][piece_number].get_piece_position()\n",
    "        "
   ]
  },
  {
   "cell_type": "code",
   "execution_count": 38,
   "metadata": {},
   "outputs": [
    {
     "name": "stdout",
     "output_type": "stream",
     "text": [
      "<class 'int'>\n",
      "\n",
      "                  23|24                   \n",
      "                  22|25                   \n",
      "                  21|26                   \n",
      "                  20|27                   \n",
      "                  19|28                   \n",
      "                  18|29                   \n",
      "13  14  15   16   17|30  31  32   33   34\n",
      "12------------------|-------------------35\n",
      "11  10  09   08   07|40  39  38   37   36\n",
      "                  06|41                   \n",
      "                  05|42                   \n",
      "     A     B      04|43     C     D       \n",
      "                  03|44                   \n",
      "                  02|45                   \n",
      "                  01|00                   \n",
      "\n",
      "\n",
      "<class 'int'>\n",
      "\n",
      "                  23|24                   \n",
      "                  22|25                   \n",
      "                  21|26                   \n",
      "                  20|27                   \n",
      "                  19|28                   \n",
      "                  18|29                   \n",
      "13  14  15   16   17|30  31  32   33   34\n",
      "12------------------|-------------------35\n",
      "11  10  09   08   07|40  39  38   37   36\n",
      "                  06|41                   \n",
      "                  05|42                   \n",
      "     A     B      04|43     C     D       \n",
      "                  03|44                   \n",
      "                  02|45                   \n",
      "                  01|00                   \n",
      "\n",
      "\n",
      "<class 'int'>\n",
      "\n",
      "                  23|24                   \n",
      "                  22|25                   \n",
      "                  21|26                   \n",
      "                  20|27                   \n",
      "                  19|28                   \n",
      "                  18|29                   \n",
      "13  14  15   16   17|30  31  32   33   34\n",
      "12------------------|-------------------35\n",
      "11  10  09   08   07|40  39  38   37   36\n",
      "                  06|41                   \n",
      "                  05|42                   \n",
      "     A     B      04|43     C     D       \n",
      "                  03|44                   \n",
      "                  02|45                   \n",
      "                  01|00                   \n",
      "\n",
      "\n",
      "<class 'int'>\n",
      "\n",
      "                  23|24                   \n",
      "                  22|25                   \n",
      "                  21|26                   \n",
      "                  20|27                   \n",
      "                  19|28                   \n",
      "                  18|29                   \n",
      "13  14  15   16   17|30  31  32   33   34\n",
      "12------------------|-------------------35\n",
      "11  10  09   08   07|40  39  38   37   36\n",
      "                  06|41                   \n",
      "                  05|42                   \n",
      "     a     B      _A|43     C     D       \n",
      "                  03|44                   \n",
      "                  02|45                   \n",
      "                  01|00                   \n",
      "\n",
      "\n"
     ]
    }
   ],
   "source": [
    "p1 = Piece(Piece_num=1,Piece_pos=1,Player_num=1)\n",
    "p2 = Piece(Piece_num=2,Piece_pos=2,Player_num=1)\n",
    "p3 = Piece(Piece_num=1,Piece_pos=3,Player_num=2)\n",
    "p4 = Piece(Piece_num=2,Piece_pos=4,Player_num=2)\n",
    "\n",
    "players = [[p1,p2],\n",
    "           [p3,p4]]\n",
    "\n",
    "def alter_board(ludo_board, piece_position, piece_name):\n",
    "    board_position = f'{int(piece_position%46):02d}'\n",
    "    return ludo_board.replace(piece_name, piece_name.lower()).replace(board_position, \"_\"+piece_name)\n",
    "\n",
    "ludo_board = '''\n",
    "                  23|24                   \n",
    "                  22|25                   \n",
    "                  21|26                   \n",
    "                  20|27                   \n",
    "                  19|28                   \n",
    "                  18|29                   \n",
    "13  14  15   16   17|30  31  32   33   34\n",
    "12------------------|-------------------35\n",
    "11  10  09   08   07|40  39  38   37   36\n",
    "                  06|41                   \n",
    "                  05|42                   \n",
    "     A     B      04|43     C     D       \n",
    "                  03|44                   \n",
    "                  02|45                   \n",
    "                  01|00                   \n",
    "\n",
    "'''\n",
    "\n",
    "for player_number in range(len(players)):\n",
    "        for piece_number in range(len(players[player_number])):\n",
    "            piece_position = players[player_number][piece_number].get_piece_position()\n",
    "            print(type(piece_position))\n",
    "            print(type(player_number))\n",
    "            print(type(player_number))\n",
    "            \n",
    "            if player_number == 1 and piece_number == 1:\n",
    "                if piece_position == -1:\n",
    "                    pass\n",
    "\n",
    "                else:\n",
    "                    ludo_board = alter_board(ludo_board, piece_position, 'A')\n",
    "\n",
    "            elif player_number == 1 and piece_number == 2:\n",
    "                if piece_position == -1:\n",
    "                    pass\n",
    "\n",
    "                else:\n",
    "                    ludo_board = alter_board(ludo_board, piece_position, 'B')   \n",
    "\n",
    "            elif player_number == 2 and piece_number == 1:\n",
    "                if piece_position == -1:\n",
    "                    pass\n",
    "\n",
    "                else:\n",
    "                    ludo_board = alter_board(ludo_board, piece_position, 'C')\n",
    "\n",
    "            else:\n",
    "                if piece_position == -1:\n",
    "                    pass\n",
    "\n",
    "                else:\n",
    "                    ludo_board = alter_board(ludo_board, piece_position, 'D')\n",
    "                    \n",
    "            print(ludo_board)"
   ]
  },
  {
   "cell_type": "code",
   "execution_count": 23,
   "metadata": {},
   "outputs": [
    {
     "name": "stdout",
     "output_type": "stream",
     "text": [
      "\n",
      "                  _C|24                   \n",
      "                  22|25                   \n",
      "                  21|26                   \n",
      "                  20|27                   \n",
      "                  19|28                   \n",
      "                  18|29                   \n",
      "13  14  15   16   17|30  31  32   33   34\n",
      "12------------------|-------------------35\n",
      "11  10  09   08   07|40  39  38   37   36\n",
      "                  06|41                   \n",
      "                  05|42                   \n",
      "     A     B      04|43     c     D       \n",
      "                  03|44                   \n",
      "                  02|45                   \n",
      "                  01|00                   \n",
      "\n",
      "\n"
     ]
    }
   ],
   "source": [
    "print(alter_board(ludo_board, 23, 'C'))"
   ]
  }
 ],
 "metadata": {
  "kernelspec": {
   "display_name": "Python 3",
   "language": "python",
   "name": "python3"
  },
  "language_info": {
   "codemirror_mode": {
    "name": "ipython",
    "version": 3
   },
   "file_extension": ".py",
   "mimetype": "text/x-python",
   "name": "python",
   "nbconvert_exporter": "python",
   "pygments_lexer": "ipython3",
   "version": "3.6.5"
  }
 },
 "nbformat": 4,
 "nbformat_minor": 2
}
