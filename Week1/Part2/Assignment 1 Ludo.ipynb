{
 "cells": [
  {
   "cell_type": "code",
   "execution_count": 1,
   "metadata": {},
   "outputs": [],
   "source": [
    "from random import randrange"
   ]
  },
  {
   "cell_type": "code",
   "execution_count": 231,
   "metadata": {},
   "outputs": [
    {
     "ename": "SyntaxError",
     "evalue": "invalid syntax (<ipython-input-231-57112e0c8491>, line 164)",
     "output_type": "error",
     "traceback": [
      "\u001b[0;36m  File \u001b[0;32m\"<ipython-input-231-57112e0c8491>\"\u001b[0;36m, line \u001b[0;32m164\u001b[0m\n\u001b[0;31m    elif roll !player_status: # player has pieces\u001b[0m\n\u001b[0m              ^\u001b[0m\n\u001b[0;31mSyntaxError\u001b[0m\u001b[0;31m:\u001b[0m invalid syntax\n"
     ]
    }
   ],
   "source": [
    "def PositionUnsafe(num):\n",
    "    '''\n",
    "    Check if the space is safe for the piece\n",
    "    '''\n",
    "    if num == 1:\n",
    "        return True\n",
    "    else:\n",
    "        if num % 5 == 0:\n",
    "            return False\n",
    "        else:\n",
    "            return True\n",
    "\n",
    "def RollDice():\n",
    "    '''\n",
    "    Random generator based upon probability distribution\n",
    "    '''\n",
    "    weighted_random = ['1'] * 25 +['2'] * 10 +['3'] * 10 +['4'] * 10 + ['5'] * 10 + ['6'] * 35\n",
    "    return random.choice(weighted_random)\n",
    "    \n",
    "class Player():\n",
    "    '''\n",
    "    Holds Player Identity\n",
    "    '''\n",
    "    def __init__(self, Player_num):\n",
    "        self.Player_num = Player_num\n",
    "    \n",
    "    def SetPlayerNumber(self):\n",
    "        return self.Player_num\n",
    "        \n",
    "    def SetPlayerNumber(self, Player_num):\n",
    "        self.Player_num = Player_num\n",
    "        \n",
    "class Piece(Player):\n",
    "    '''\n",
    "    Holds Piece Number and the Piece Position\n",
    "    '''\n",
    "    def __init__(self, Piece_num, Player_num, Piece_pos=-1):\n",
    "        self.Piece_num = Piece_num\n",
    "        self.Piece_pos = Piece_pos\n",
    "        self.Player_num = self.SetPlayerNumber(Player_num)\n",
    "        \n",
    "    def GetPieceNumber(self):\n",
    "        return self.Piece_num\n",
    "    \n",
    "    def SetPieceNumber(self, Piece_num):    \n",
    "        self.Piece_num = Piece_num\n",
    "        \n",
    "    def GetPiecePosition(self):\n",
    "        return self.Piece_pos\n",
    "    \n",
    "    def SetPiecePosition(self, Piece_pos):\n",
    "        self.Piece_pos = Piece_pos\n",
    "        \n",
    "class Board():\n",
    "    '''\n",
    "    Holds Board Arrangement in a dictionary signifying piece postion and safe spaces\n",
    "    along with methods for moving the player and handiling piece interaction\n",
    "    '''\n",
    "    def __init__(self, Piece_Arrangement={}):\n",
    "        self.Piece_Arrangement = Piece_Arrangement\n",
    "    \n",
    "    def GetPieceArrangement(self):\n",
    "        return self.Piece_Arrangement\n",
    "    \n",
    "    def SetPieceArrangement(self, Piece_Arrangement={}):\n",
    "        self.Piece_Arrangement = Piece_Arrangement\n",
    "        \n",
    "    def DisplayPiecePositions(self, players):\n",
    "        for player_number in range(len(players)):\n",
    "            for piece_number in range(len(players[player_number])):\n",
    "                print(\"Player\",player_number+1,\"Piece\",piece_number,\"is at position\",\n",
    "                      players[player_number][piece_number].GetPiecePosition(),\"\\n\")\n",
    "        \n",
    "    def PlayerMovesOut(self, player_number, players):\n",
    "        player = players[player_number]\n",
    "        self.DisplayPiecePositions(players)\n",
    "        \n",
    "        while True:\n",
    "            piece_number = int(input(\"Player \"+str(player_number+1)+\" which piece do you wish to move, 1 or 2 \\n\"))\n",
    "        \n",
    "            if piece_number == 1 or piece_number == 2:\n",
    "                player[piece_number-1].SetPiecePosition(1)\n",
    "                break\n",
    "            \n",
    "            else:\n",
    "                print(\"Invalid response choose 1 or 2\")\n",
    "        \n",
    "    def PlayerMoves(self, player_number, players, roll_number):\n",
    "        player = players[player_number]\n",
    "        self.DisplayPiecePositions(players)\n",
    "        \n",
    "        while True:\n",
    "            piece_number = int(input(\"Player \"+str(player_number+1)+\" which piece do you wish to move, 1 or 2 \\n\"))\n",
    "        \n",
    "            if piece_number == 1 or piece_number == 2:\n",
    "                piece_initial_position = player[piece_number-1].GetPiecePosition()\n",
    "                piece_new_position = piece_initial_position+piece_initial_position\n",
    "                player[piece_number-1].SetPiecePosition(piece_new_position)\n",
    "                \n",
    "                other_player = players[not player_number]\n",
    "                \n",
    "                if PositionUnsafe(piece_new_position):\n",
    "                    for piece_number in range(len(other_player)):\n",
    "                        if other_player[piece_number].GetPiecePosition() == piece_new_position:\n",
    "                            print(\"Player\",not player_number,piece_number,\"piece was captured and returned back to the keep\")\n",
    "                            other_player[piece_number].SetPiecePosition(-1)\n",
    "                        else:\n",
    "                            pass\n",
    "                else:\n",
    "                    pass\n",
    "                    \n",
    "                break\n",
    "            else:\n",
    "                print(\"Invalid response choose 1 or 2\")\n",
    "        \n",
    "class Ludo(Board):\n",
    "    '''\n",
    "    Helper functions holding the games logic\n",
    "    p1 = Piece(1) ; p1.SetPlayerNumber(1)\n",
    "    p2 = Piece(2) ; p2.SetPlayerNumber(1)\n",
    "\n",
    "    p3 = Piece(1) ; p3.SetPlayerNumber(2)\n",
    "    p4 = Piece(2) ; p4.SetPlayerNumber(2)\n",
    "\n",
    "    players = [[p1,p2],\n",
    "                [p3,p4]]\n",
    "    '''\n",
    "    players=[]\n",
    "    def __init__(self,p1 = Piece(1), p2 = Piece(1), p3 = Piece(2), p4 = Piece(2)):\n",
    "        p1 = Piece(1) ; p1.SetPlayerNumber(1)\n",
    "        p2 = Piece(2) ; p2.SetPlayerNumber(1)\n",
    "        p3 = Piece(1) ; p3.SetPlayerNumber(2)\n",
    "        p4 = Piece(2) ; p4.SetPlayerNumber(2)\n",
    "        \n",
    "    \n",
    "    def PlayerHasntStarted(self,player):\n",
    "        for piece in player:\n",
    "            if piece.GetPiecePosition() != -1:\n",
    "                return False\n",
    "            else:\n",
    "                pass\n",
    "        return True\n",
    "    \n",
    "    def PlayGame(self):\n",
    "        \n",
    "        while True:\n",
    "            user_response = input(\"Press enter to roll or type close to exit the program\")\n",
    "            if user_response == '':\n",
    "\n",
    "                for player_number in range(len(players)):\n",
    "                    player = players(player_number)\n",
    "                    roll_number = roll_dice()\n",
    "                    \n",
    "                    \n",
    "                    player_status = self.PlayerHasntStarted(player)\n",
    "\n",
    "                    if roll_number == 6 and player_status: # player doesnt have pieces and rolls a 6\n",
    "                        Board.PlayerMovesOut(player_number, players)\n",
    "\n",
    "                    elif roll_number != 6 and player_status: # player doenst have pieces and rolls something other than a 6\n",
    "                        print(\"tough break, better luck next time\")\n",
    "                        break\n",
    "\n",
    "                    elif not player_status: # player has pieces\n",
    "                        Board.PlayerMoves(player_number, players,roll_number)\n",
    "\n",
    "            elif user_reponse == 'close':\n",
    "                break\n",
    "\n",
    "            else:\n",
    "                print(\"type close to exit the program\")"
   ]
  },
  {
   "cell_type": "code",
   "execution_count": 223,
   "metadata": {},
   "outputs": [
    {
     "name": "stdout",
     "output_type": "stream",
     "text": [
      "True\n",
      "False\n",
      "False\n",
      "False\n",
      "True\n",
      "False\n",
      "False\n",
      "False\n",
      "False\n",
      "True\n",
      "False\n",
      "False\n",
      "False\n",
      "False\n",
      "True\n",
      "False\n",
      "False\n",
      "False\n",
      "False\n"
     ]
    }
   ],
   "source": [
    "def PositionSafe(num):\n",
    "    '''\n",
    "    Check if the space is safe for the piece\n",
    "    '''\n",
    "    if num == 1:\n",
    "        return True\n",
    "    else:\n",
    "        if num % 5 == 0:\n",
    "            return True\n",
    "        else:\n",
    "            return False\n",
    "\n",
    "for i in range(1,20):\n",
    "    print(PositionSafe(i))"
   ]
  },
  {
   "cell_type": "code",
   "execution_count": 214,
   "metadata": {},
   "outputs": [
    {
     "data": {
      "text/plain": [
       "2"
      ]
     },
     "execution_count": 214,
     "metadata": {},
     "output_type": "execute_result"
    }
   ],
   "source": [
    "2%5"
   ]
  },
  {
   "cell_type": "code",
   "execution_count": 203,
   "metadata": {},
   "outputs": [
    {
     "data": {
      "text/plain": [
       "0"
      ]
     },
     "execution_count": 203,
     "metadata": {},
     "output_type": "execute_result"
    }
   ],
   "source": [
    "a[not 1]"
   ]
  },
  {
   "cell_type": "code",
   "execution_count": 143,
   "metadata": {},
   "outputs": [
    {
     "name": "stdout",
     "output_type": "stream",
     "text": [
      "/bin/sh: 1: True: not found\r\n"
     ]
    }
   ],
   "source": [
    "True"
   ]
  },
  {
   "cell_type": "code",
   "execution_count": 118,
   "metadata": {},
   "outputs": [],
   "source": [
    "p1 = Piece(1) ; p1.SetPlayerNumber(1)\n",
    "p2 = Piece(2) ; p2.SetPlayerNumber(1)\n",
    "\n",
    "p3 = Piece(1) ; p3.SetPlayerNumber(2)\n",
    "p4 = Piece(2) ; p4.SetPlayerNumber(2)\n",
    "\n",
    "players = [[p1,p2],\n",
    "          [p3,p4]]"
   ]
  },
  {
   "cell_type": "code",
   "execution_count": 136,
   "metadata": {},
   "outputs": [
    {
     "name": "stdout",
     "output_type": "stream",
     "text": [
      "Player 1 Piece 0 is at position 1 \n",
      "\n",
      "Player 1 Piece 1 is at position 1 \n",
      "\n",
      "Player 2 Piece 0 is at position 1 \n",
      "\n",
      "Player 2 Piece 1 is at position 1 \n",
      "\n",
      "Player 2 which piece do you wish to move, 1 or 2 \n",
      "1\n"
     ]
    }
   ],
   "source": [
    "board = Board()\n",
    "board.PlayerMovesOut(1, players)"
   ]
  },
  {
   "cell_type": "code",
   "execution_count": 102,
   "metadata": {},
   "outputs": [
    {
     "ename": "TypeError",
     "evalue": "must be str, not int",
     "output_type": "error",
     "traceback": [
      "\u001b[0;31m---------------------------------------------------------------------------\u001b[0m",
      "\u001b[0;31mTypeError\u001b[0m                                 Traceback (most recent call last)",
      "\u001b[0;32m<ipython-input-102-8061c3c418ca>\u001b[0m in \u001b[0;36m<module>\u001b[0;34m()\u001b[0m\n\u001b[0;32m----> 1\u001b[0;31m \u001b[0mboard\u001b[0m\u001b[0;34m.\u001b[0m\u001b[0mPlayerMovesOut\u001b[0m\u001b[0;34m(\u001b[0m\u001b[0;36m0\u001b[0m\u001b[0;34m,\u001b[0m \u001b[0mplayers\u001b[0m\u001b[0;34m)\u001b[0m\u001b[0;34m\u001b[0m\u001b[0m\n\u001b[0m",
      "\u001b[0;32m<ipython-input-100-bde84c817ffd>\u001b[0m in \u001b[0;36mPlayerMovesOut\u001b[0;34m(self, player_number, players)\u001b[0m\n\u001b[1;32m     72\u001b[0m     \u001b[0;32mdef\u001b[0m \u001b[0mPlayerMovesOut\u001b[0m\u001b[0;34m(\u001b[0m\u001b[0mself\u001b[0m\u001b[0;34m,\u001b[0m \u001b[0mplayer_number\u001b[0m\u001b[0;34m,\u001b[0m \u001b[0mplayers\u001b[0m\u001b[0;34m)\u001b[0m\u001b[0;34m:\u001b[0m\u001b[0;34m\u001b[0m\u001b[0m\n\u001b[1;32m     73\u001b[0m         \u001b[0mplayer\u001b[0m \u001b[0;34m=\u001b[0m \u001b[0mplayers\u001b[0m\u001b[0;34m[\u001b[0m\u001b[0mplayer_number\u001b[0m\u001b[0;34m]\u001b[0m\u001b[0;34m\u001b[0m\u001b[0m\n\u001b[0;32m---> 74\u001b[0;31m         \u001b[0mself\u001b[0m\u001b[0;34m.\u001b[0m\u001b[0mDisplayPiecePositions\u001b[0m\u001b[0;34m(\u001b[0m\u001b[0mplayers\u001b[0m\u001b[0;34m)\u001b[0m\u001b[0;34m\u001b[0m\u001b[0m\n\u001b[0m\u001b[1;32m     75\u001b[0m \u001b[0;34m\u001b[0m\u001b[0m\n\u001b[1;32m     76\u001b[0m         \u001b[0;32mwhile\u001b[0m \u001b[0;32mTrue\u001b[0m\u001b[0;34m:\u001b[0m\u001b[0;34m\u001b[0m\u001b[0m\n",
      "\u001b[0;32m<ipython-input-100-bde84c817ffd>\u001b[0m in \u001b[0;36mDisplayPiecePositions\u001b[0;34m(self, players)\u001b[0m\n\u001b[1;32m     65\u001b[0m     \u001b[0;32mdef\u001b[0m \u001b[0mDisplayPiecePositions\u001b[0m\u001b[0;34m(\u001b[0m\u001b[0mself\u001b[0m\u001b[0;34m,\u001b[0m \u001b[0mplayers\u001b[0m\u001b[0;34m)\u001b[0m\u001b[0;34m:\u001b[0m\u001b[0;34m\u001b[0m\u001b[0m\n\u001b[1;32m     66\u001b[0m         \u001b[0;32mfor\u001b[0m \u001b[0mplayer_number\u001b[0m \u001b[0;32min\u001b[0m \u001b[0mrange\u001b[0m\u001b[0;34m(\u001b[0m\u001b[0mlen\u001b[0m\u001b[0;34m(\u001b[0m\u001b[0mplayers\u001b[0m\u001b[0;34m)\u001b[0m\u001b[0;34m)\u001b[0m\u001b[0;34m:\u001b[0m\u001b[0;34m\u001b[0m\u001b[0m\n\u001b[0;32m---> 67\u001b[0;31m             \u001b[0mprint\u001b[0m\u001b[0;34m(\u001b[0m\u001b[0;34m\"Player \"\u001b[0m\u001b[0;34m+\u001b[0m\u001b[0mplayer_number\u001b[0m\u001b[0;34m+\u001b[0m\u001b[0;34m\" piece positions are as follows\"\u001b[0m\u001b[0;34m)\u001b[0m\u001b[0;34m\u001b[0m\u001b[0m\n\u001b[0m\u001b[1;32m     68\u001b[0m             \u001b[0;32mfor\u001b[0m \u001b[0mpiece_number\u001b[0m \u001b[0;32min\u001b[0m \u001b[0mrange\u001b[0m\u001b[0;34m(\u001b[0m\u001b[0mlen\u001b[0m\u001b[0;34m(\u001b[0m\u001b[0mplayers\u001b[0m\u001b[0;34m[\u001b[0m\u001b[0mplayer_number\u001b[0m\u001b[0;34m]\u001b[0m\u001b[0;34m)\u001b[0m\u001b[0;34m)\u001b[0m\u001b[0;34m:\u001b[0m\u001b[0;34m\u001b[0m\u001b[0m\n\u001b[1;32m     69\u001b[0m                 print(\"Piece \"+player_number+\" is at position \"+\n",
      "\u001b[0;31mTypeError\u001b[0m: must be str, not int"
     ]
    }
   ],
   "source": []
  },
  {
   "cell_type": "code",
   "execution_count": 156,
   "metadata": {},
   "outputs": [],
   "source": [
    "CheckSpaceSafe(3)"
   ]
  },
  {
   "cell_type": "code",
   "execution_count": null,
   "metadata": {},
   "outputs": [],
   "source": [
    "# Flow\n",
    "\n",
    "'''\n",
    "-> Both players roll the dice and whoever gets first ‘6’ will have first turn.\n",
    "\n",
    "-> Throw of a ‘6’ will give another turn.\n",
    "\n",
    "-> Design your own track for 2 player game with minimum of two pieces of each \n",
    "   player and make some boxes where your piece can’t get killed.\n",
    "\n",
    "-> If a piece lands on a piece of other player, the piece jumped upon is returned \n",
    "   to its starting circle.\n",
    "'''\n",
    "\n",
    "player1 rolls the dice\n",
    "\n",
    "while True:\n",
    "player_roll = roll()\n",
    "\n",
    "if player_roll is 6:\n",
    "    move_piece(player_roll)\n",
    "    player_roll = roll()\n",
    "\n",
    "else:\n",
    "    move_piece()"
   ]
  },
  {
   "cell_type": "code",
   "execution_count": 14,
   "metadata": {},
   "outputs": [],
   "source": []
  },
  {
   "cell_type": "code",
   "execution_count": 26,
   "metadata": {},
   "outputs": [
    {
     "name": "stdout",
     "output_type": "stream",
     "text": [
      "-1\n",
      "-1\n",
      "-1\n",
      "-1\n"
     ]
    }
   ],
   "source": [
    "for player in players:\n",
    "    for piece in player:\n",
    "        print(piece.get_Piece_pos())"
   ]
  },
  {
   "cell_type": "code",
   "execution_count": 30,
   "metadata": {},
   "outputs": [
    {
     "data": {
      "text/plain": [
       "0"
      ]
     },
     "execution_count": 30,
     "metadata": {},
     "output_type": "execute_result"
    }
   ],
   "source": [
    "i=4\n",
    "i%1 and i%i"
   ]
  },
  {
   "cell_type": "code",
   "execution_count": 31,
   "metadata": {},
   "outputs": [
    {
     "data": {
      "text/plain": [
       "0"
      ]
     },
     "execution_count": 31,
     "metadata": {},
     "output_type": "execute_result"
    }
   ],
   "source": [
    "i%i"
   ]
  },
  {
   "cell_type": "code",
   "execution_count": 24,
   "metadata": {},
   "outputs": [
    {
     "data": {
      "text/plain": [
       "'player 1'"
      ]
     },
     "execution_count": 24,
     "metadata": {},
     "output_type": "execute_result"
    }
   ],
   "source": [
    "player"
   ]
  },
  {
   "cell_type": "code",
   "execution_count": null,
   "metadata": {},
   "outputs": [],
   "source": [
    "'''\n",
    "-> Both players roll the dice and whoever gets first ‘6’ will have first turn.\n",
    "\n",
    "-> Throw of a ‘6’ will give another turn.\n",
    "\n",
    "-> Design your own track for 2 player game with minimum of two pieces of each \n",
    "   player and make some boxes where your piece can’t get killed.\n",
    "\n",
    "-> If a piece lands on a piece of other player, the piece jumped upon is returned \n",
    "   to its starting circle.\n",
    "\n",
    "\n",
    "    player can be in 3 situations\n",
    "\n",
    "    player has both pieces inside and rolls a 6\n",
    "    choices:\n",
    "        move one of the pieces outside\n",
    "    then:\n",
    "        roll again\n",
    "\n",
    "    player has both pieces outside\n",
    "    choices:\n",
    "        move piece 1\n",
    "        move piece 2\n",
    "\n",
    "    player has one piece inside and the other outside\n",
    "    choice:\n",
    "        move a piece oustide\n",
    "        move the piece that is outside\n",
    "\n",
    "\n",
    "# PSUEDO-CODE\n",
    "\n",
    "check if user wishes to play? if not close program, tell the user to type close to close game.\n",
    "\n",
    "create 4 piece objects for the 2 players\n",
    "####################################\n",
    "p1 = Piece(1) ; p1.set_Player_num(1)\n",
    "p2 = Piece(2) ; p2.set_Player_num(1)\n",
    "\n",
    "p3 = Piece(1) ; p3.set_Player_num(2)\n",
    "p4 = Piece(2) ; p4.set_Player_num(2)\n",
    "\n",
    "players = [[p1,p2],\n",
    "          [p3,p4]]\n",
    "####################################\n",
    "\n",
    "def PlayGame():\n",
    "    while true\n",
    "        user_response = input(\"Press enter to roll or type close to exit the program\")\n",
    "        if user_response == '':\n",
    "\n",
    "            for player_number in range(len(players)):\n",
    "                player = players(player_number)\n",
    "                roll_number = roll_dice()\n",
    "                player_status = PlayerHasntStarted(player)\n",
    "\n",
    "                if roll number == 6 and player_status: # player doenst have pieces and rolls a 6\n",
    "                    Board.PlayerMovesOut(player_number, players)\n",
    "\n",
    "                elif roll number != 6 and player_status: # player doenst have pieces and rolls something other than a 6\n",
    "                    print(\"tough break, better luck next time\")\n",
    "                    break\n",
    "\n",
    "                elif roll !player_status: # player has pieces\n",
    "                    Board.PlayerMoves(player_number, players,roll_number)\n",
    "\n",
    "        elif user_reponse == 'close':\n",
    "            break\n",
    "\n",
    "        else:\n",
    "            print(\"type close to exit the program\")\n",
    "        \n",
    "\n",
    "\n",
    "\n",
    "\n",
    "\n",
    "\n",
    "\n",
    "if CheckSpaceSafe(roll number):\n",
    "    safe\n",
    "else:\n",
    "    piece is ded\n",
    "\n",
    "\n",
    "\n",
    "\n",
    "\n",
    "\n",
    "\n",
    "\n",
    "\n",
    "\n",
    "\n",
    "\n",
    "\n",
    "\n",
    "\n",
    "\n",
    "\n",
    "\n",
    "\n",
    "\n",
    "'''"
   ]
  },
  {
   "cell_type": "code",
   "execution_count": 64,
   "metadata": {},
   "outputs": [
    {
     "name": "stdout",
     "output_type": "stream",
     "text": [
      "0\n",
      "1\n"
     ]
    }
   ],
   "source": [
    "for turn in range(2):\n",
    "    print(turn)"
   ]
  },
  {
   "cell_type": "code",
   "execution_count": 82,
   "metadata": {},
   "outputs": [],
   "source": [
    "p1 = Piece(1) ; p1.SetPlayerNumber(1)\n",
    "p2 = Piece(2) ; p2.SetPlayerNumber(1)\n",
    "\n",
    "p3 = Piece(1) ; p3.SetPlayerNumber(2)\n",
    "p4 = Piece(2) ; p4.SetPlayerNumber(2)\n",
    "\n",
    "players = [[p1,p2],\n",
    "          [p3,p4]]\n",
    "player = players[0]"
   ]
  },
  {
   "cell_type": "code",
   "execution_count": 83,
   "metadata": {},
   "outputs": [
    {
     "data": {
      "text/plain": [
       "-1"
      ]
     },
     "execution_count": 83,
     "metadata": {},
     "output_type": "execute_result"
    }
   ],
   "source": [
    "p3.GetPiecePosition()"
   ]
  },
  {
   "cell_type": "code",
   "execution_count": 84,
   "metadata": {},
   "outputs": [],
   "source": [
    "player[0].SetPiecePosition(999)"
   ]
  },
  {
   "cell_type": "code",
   "execution_count": 89,
   "metadata": {},
   "outputs": [
    {
     "data": {
      "text/plain": [
       "999"
      ]
     },
     "execution_count": 89,
     "metadata": {},
     "output_type": "execute_result"
    }
   ],
   "source": [
    "players[0][0].GetPiecePosition()"
   ]
  },
  {
   "cell_type": "code",
   "execution_count": 88,
   "metadata": {},
   "outputs": [
    {
     "data": {
      "text/plain": [
       "[[<__main__.Piece at 0x7f1c93f649e8>, <__main__.Piece at 0x7f1c93f649b0>],\n",
       " [<__main__.Piece at 0x7f1c93f64b38>, <__main__.Piece at 0x7f1c93f64940>]]"
      ]
     },
     "execution_count": 88,
     "metadata": {},
     "output_type": "execute_result"
    }
   ],
   "source": [
    "players[0][0]"
   ]
  }
 ],
 "metadata": {
  "kernelspec": {
   "display_name": "Python 3",
   "language": "python",
   "name": "python3"
  },
  "language_info": {
   "codemirror_mode": {
    "name": "ipython",
    "version": 3
   },
   "file_extension": ".py",
   "mimetype": "text/x-python",
   "name": "python",
   "nbconvert_exporter": "python",
   "pygments_lexer": "ipython3",
   "version": "3.6.5"
  }
 },
 "nbformat": 4,
 "nbformat_minor": 2
}
