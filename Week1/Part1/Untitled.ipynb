{
 "cells": [
  {
   "cell_type": "code",
   "execution_count": 1,
   "metadata": {},
   "outputs": [
    {
     "name": "stdout",
     "output_type": "stream",
     "text": [
      "please enter the string you wish to replace : test\n",
      "please enter the string you wish to replace it with : train\n",
      "This some test data to see if the program worksThis is some additional data.\n"
     ]
    }
   ],
   "source": [
    "f = open(\"test.txt\",mode='r')\n",
    "string_data = f.read()\n",
    "\n",
    "original_string = input(\"please enter the string you wish to replace : \")\n",
    "replacement_string = input(\"please enter the string you wish to replace it with : \")\n",
    "\n",
    "string_data = string_data.replace(original_string, replacement_string)\n",
    "print(string_data)\n",
    "\n",
    "# f = open(\"test.txt\", \"w\")\n",
    "# f.write(string_data)\n",
    "# print(\"String replaced \\n\")"
   ]
  },
  {
   "cell_type": "code",
   "execution_count": 3,
   "metadata": {},
   "outputs": [
    {
     "data": {
      "text/plain": [
       "'test'"
      ]
     },
     "execution_count": 3,
     "metadata": {},
     "output_type": "execute_result"
    }
   ],
   "source": [
    "original_string"
   ]
  }
 ],
 "metadata": {
  "kernelspec": {
   "display_name": "Python 3",
   "language": "python",
   "name": "python3"
  },
  "language_info": {
   "codemirror_mode": {
    "name": "ipython",
    "version": 3
   },
   "file_extension": ".py",
   "mimetype": "text/x-python",
   "name": "python",
   "nbconvert_exporter": "python",
   "pygments_lexer": "ipython3",
   "version": "3.6.5"
  }
 },
 "nbformat": 4,
 "nbformat_minor": 2
}
